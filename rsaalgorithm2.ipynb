{
 "cells": [
  {
   "cell_type": "code",
   "execution_count": 1,
   "source": [
    "import string\r\n",
    "def power(x1, y1, p1) : \r\n",
    "    res = 1    \r\n",
    "    x1 = x1 % p1 \r\n",
    "    if (x1 == 0) : \r\n",
    "        return 0\r\n",
    "    while (y1 > 0) : \r\n",
    "        if ((y1 & 1) == 1) : \r\n",
    "            res = (res * x1) % p1 \r\n",
    "        y1 = y1 >> 1      # y = y/2 \r\n",
    "        x1 = (x1 * x1) % p1\r\n",
    "    return int(res)\r\n",
    "def strtoint(message):\r\n",
    "    kk=[int(ord(message[i])) for i in range(0,len(message))]\r\n",
    "    return kk\r\n",
    "def inttostr(message):\r\n",
    "    kk=[chr(message[i]) for i in range(0,len(message))]\r\n",
    "    return \"\".join(kk)\r\n",
    "def enscript(message):\r\n",
    "    kk=[]\r\n",
    "    for i in range(0,len(message)):\r\n",
    "        kk.append(power(message[i],e,n))\r\n",
    "    return kk\r\n",
    "def decript(message):\r\n",
    "    kk=[]\r\n",
    "    for i in range(0,len(message)):\r\n",
    "        kk.append(power(message[i],d,n))\r\n",
    "    return kk"
   ],
   "outputs": [],
   "metadata": {}
  },
  {
   "cell_type": "code",
   "execution_count": 2,
   "source": [
    "\r\n",
    "\r\n",
    "p=13#p=61\r\n",
    "q=17#q=53\r\n",
    "n=p*q\r\n",
    "e=35#e=17\r\n",
    "d=11#d=413"
   ],
   "outputs": [],
   "metadata": {}
  },
  {
   "cell_type": "code",
   "execution_count": 3,
   "source": [
    "k=' '\r\n",
    "print(ord(k))\r\n",
    "\r\n"
   ],
   "outputs": [
    {
     "output_type": "stream",
     "name": "stdout",
     "text": [
      "32\n"
     ]
    }
   ],
   "metadata": {}
  },
  {
   "cell_type": "code",
   "execution_count": 4,
   "source": [
    "example=\" mypassword:94496535356\"\r\n",
    "print(example)\r\n",
    "msgint=strtoint(example)#convert string data into equivalent unicode number\r\n",
    "print(msgint)\r\n",
    "back=inttostr(msgint)#convert unicode  numberinto string \r\n",
    "print(back)"
   ],
   "outputs": [
    {
     "output_type": "stream",
     "name": "stdout",
     "text": [
      " mypassword:94496535356\n",
      "[32, 109, 121, 112, 97, 115, 115, 119, 111, 114, 100, 58, 57, 52, 52, 57, 54, 53, 51, 53, 51, 53, 54]\n",
      " mypassword:94496535356\n"
     ]
    }
   ],
   "metadata": {}
  },
  {
   "cell_type": "code",
   "execution_count": 5,
   "source": [
    "#encription sender\r\n",
    "msg=\"Password:dsu@123\"\r\n",
    "print(msg)\r\n",
    "msg=strtoint(msg)\r\n",
    "print(msg)\r\n",
    "CT=enscript(msg)#msg^e mod(N)\r\n",
    "print(CT)\r\n",
    "CT=inttostr(CT)\r\n",
    "print(CT)"
   ],
   "outputs": [
    {
     "output_type": "stream",
     "name": "stdout",
     "text": [
      "Password:dsu@123\n",
      "[80, 97, 115, 115, 119, 111, 114, 100, 58, 100, 115, 117, 64, 49, 50, 51]\n",
      "[215, 11, 123, 123, 85, 15, 147, 94, 37, 94, 123, 26, 38, 43, 84, 51]\n",
      "×\u000b{{U\u000f^%^{\u001a&+T3\n"
     ]
    }
   ],
   "metadata": {}
  },
  {
   "cell_type": "code",
   "execution_count": 8,
   "source": [
    "print(\"enscrypted message: \",CT)\r\n",
    "MT=strtoint(CT)\r\n",
    "print(MT)\r\n",
    "MT=decript(MT)\r\n",
    "print(MT)\r\n",
    "MT=inttostr(MT)\r\n",
    "print(\"descrypted message: \",MT)"
   ],
   "outputs": [
    {
     "output_type": "stream",
     "name": "stdout",
     "text": [
      "enscrypted message:  ×\u000b{{U\u000f^%^{\u001a&+T3\n",
      "[215, 11, 123, 123, 85, 15, 147, 94, 37, 94, 123, 26, 38, 43, 84, 51]\n",
      "[80, 97, 115, 115, 119, 111, 114, 100, 58, 100, 115, 117, 64, 49, 50, 51]\n",
      "descrypted message:  Password:dsu@123\n"
     ]
    }
   ],
   "metadata": {}
  },
  {
   "cell_type": "code",
   "execution_count": null,
   "source": [],
   "outputs": [],
   "metadata": {}
  },
  {
   "cell_type": "code",
   "execution_count": null,
   "source": [],
   "outputs": [],
   "metadata": {}
  }
 ],
 "metadata": {
  "kernelspec": {
   "name": "python3",
   "display_name": "Python 3.7.0 64-bit"
  },
  "language_info": {
   "codemirror_mode": {
    "name": "ipython",
    "version": 3
   },
   "file_extension": ".py",
   "mimetype": "text/x-python",
   "name": "python",
   "nbconvert_exporter": "python",
   "pygments_lexer": "ipython3",
   "version": "3.7.0"
  },
  "interpreter": {
   "hash": "a062b54d82484db1fb198ca9205af3586753db15c381c970012e0901a8c57c96"
  }
 },
 "nbformat": 4,
 "nbformat_minor": 4
}